{
 "cells": [
  {
   "cell_type": "markdown",
   "id": "00c2e54c",
   "metadata": {},
   "source": [
    "## 1. Load the dataset and display the first 5 rows."
   ]
  },
  {
   "cell_type": "code",
   "execution_count": null,
   "id": "b11a1fcb",
   "metadata": {},
   "outputs": [],
   "source": [
    "import pandas as pd\n",
    "\n",
    "# Load the dataset\n",
    "df = pd.read_csv('software_companies_dataset.csv')\n",
    "df.head()"
   ]
  },
  {
   "cell_type": "markdown",
   "id": "dc54edb6",
   "metadata": {},
   "source": [
    "## 2. Display the summary statistics of the dataset."
   ]
  },
  {
   "cell_type": "code",
   "execution_count": null,
   "id": "1dfb5aec",
   "metadata": {},
   "outputs": [],
   "source": [
    "df.describe()"
   ]
  },
  {
   "cell_type": "markdown",
   "id": "79184856",
   "metadata": {},
   "source": [
    "## 3. Check for missing values in the dataset."
   ]
  },
  {
   "cell_type": "code",
   "execution_count": null,
   "id": "de781a75",
   "metadata": {},
   "outputs": [],
   "source": [
    "df.isnull().sum()"
   ]
  },
  {
   "cell_type": "markdown",
   "id": "a32ec757",
   "metadata": {},
   "source": [
    "## 4. Drop rows with any missing values."
   ]
  },
  {
   "cell_type": "code",
   "execution_count": null,
   "id": "91abdf82",
   "metadata": {},
   "outputs": [],
   "source": [
    "df.dropna(inplace=True)\n",
    "df.head()"
   ]
  },
  {
   "cell_type": "markdown",
   "id": "5987439d",
   "metadata": {},
   "source": [
    "## 5. Fill missing values with the mean for numerical columns."
   ]
  },
  {
   "cell_type": "code",
   "execution_count": null,
   "id": "3f89e4e2",
   "metadata": {},
   "outputs": [],
   "source": [
    "df.fillna(df.mean(), inplace=True)\n",
    "df.head()"
   ]
  },
  {
   "cell_type": "markdown",
   "id": "69431f6c",
   "metadata": {},
   "source": [
    "## 6. Fill missing values with the mode for categorical columns."
   ]
  },
  {
   "cell_type": "code",
   "execution_count": null,
   "id": "cfc0da9b",
   "metadata": {},
   "outputs": [],
   "source": [
    "df.fillna(df.mode().iloc[0], inplace=True)\n",
    "df.head()"
   ]
  },
  {
   "cell_type": "markdown",
   "id": "d740f57f",
   "metadata": {},
   "source": [
    "## 7. Create a new column 'Company_Age' based on 'Year_Founded' and the current year."
   ]
  },
  {
   "cell_type": "code",
   "execution_count": null,
   "id": "25438113",
   "metadata": {},
   "outputs": [],
   "source": [
    "df['Company_Age'] = 2024 - df['Year_Founded']\n",
    "df.head()"
   ]
  },
  {
   "cell_type": "markdown",
   "id": "ead20d94",
   "metadata": {},
   "source": [
    "## 8. Calculate the correlation matrix for numerical columns."
   ]
  },
  {
   "cell_type": "code",
   "execution_count": null,
   "id": "d804775d",
   "metadata": {},
   "outputs": [],
   "source": [
    "df.corr()"
   ]
  },
  {
   "cell_type": "markdown",
   "id": "25ee6f95",
   "metadata": {},
   "source": [
    "## 9. Plot a histogram for the 'Annual_Revenue' column."
   ]
  },
  {
   "cell_type": "code",
   "execution_count": null,
   "id": "e2bb8e0f",
   "metadata": {},
   "outputs": [],
   "source": [
    "df['Annual_Revenue'].hist(bins=20)"
   ]
  },
  {
   "cell_type": "markdown",
   "id": "12aa41e3",
   "metadata": {},
   "source": [
    "## 10. Plot a bar chart for the 'Product_Lines' column."
   ]
  },
  {
   "cell_type": "code",
   "execution_count": null,
   "id": "49ebffef",
   "metadata": {},
   "outputs": [],
   "source": [
    "df['Product_Lines'].value_counts().plot(kind='bar')"
   ]
  },
  {
   "cell_type": "markdown",
   "id": "b08ebbc6",
   "metadata": {},
   "source": [
    "## 11. Plot a scatter plot between 'R&D_Spending' and 'Annual_Revenue'."
   ]
  },
  {
   "cell_type": "code",
   "execution_count": null,
   "id": "09f0e670",
   "metadata": {},
   "outputs": [],
   "source": [
    "df.plot.scatter(x='R&D_Spending', y='Annual_Revenue')"
   ]
  },
  {
   "cell_type": "markdown",
   "id": "febc004e",
   "metadata": {},
   "source": [
    "## 13. Normalize the 'Annual_Revenue' column using Min-Max scaling."
   ]
  },
  {
   "cell_type": "code",
   "execution_count": null,
   "id": "6c60316c",
   "metadata": {},
   "outputs": [],
   "source": [
    "from sklearn.preprocessing import MinMaxScaler\n",
    "scaler = MinMaxScaler()\n",
    "df['Annual_Revenue'] = scaler.fit_transform(df[['Annual_Revenue']])\n",
    "df.head()"
   ]
  },
  {
   "cell_type": "markdown",
   "id": "eae59df5",
   "metadata": {},
   "source": [
    "## 14. Standardize the 'Market_Share' column."
   ]
  },
  {
   "cell_type": "code",
   "execution_count": null,
   "id": "74a8c9d0",
   "metadata": {},
   "outputs": [],
   "source": [
    "from sklearn.preprocessing import StandardScaler\n",
    "scaler = StandardScaler()\n",
    "df['Market_Share'] = scaler.fit_transform(df[['Market_Share']])\n",
    "df.head()"
   ]
  },
  {
   "cell_type": "markdown",
   "id": "761fb5fb",
   "metadata": {},
   "source": [
    "## 15. Create a pivot table showing the average 'R&D_Spending' for each 'Product_Lines'."
   ]
  },
  {
   "cell_type": "code",
   "execution_count": null,
   "id": "2c1b3d14",
   "metadata": {},
   "outputs": [],
   "source": [
    "df.pivot_table(values='R&D_Spending', index='Product_Lines', aggfunc='mean')"
   ]
  },
  {
   "cell_type": "markdown",
   "id": "eb933416",
   "metadata": {},
   "source": [
    "## 16. Group the data by 'CEO_Tenure_Years' and calculate the mean 'Annual_Revenue'."
   ]
  },
  {
   "cell_type": "code",
   "execution_count": null,
   "id": "df257438",
   "metadata": {},
   "outputs": [],
   "source": [
    "df.groupby('CEO_Tenure_Years')['Annual_Revenue'].mean()"
   ]
  },
  {
   "cell_type": "markdown",
   "id": "f87296d8",
   "metadata": {},
   "source": [
    "## 17. Filter the dataset for companies with 'Annual_Revenue' greater than 50 million."
   ]
  },
  {
   "cell_type": "code",
   "execution_count": null,
   "id": "9a1bce0e",
   "metadata": {},
   "outputs": [],
   "source": [
    "df_filtered = df[df['Annual_Revenue'] > 5e7]\n",
    "df_filtered.head()"
   ]
  },
  {
   "cell_type": "markdown",
   "id": "1e6dea74",
   "metadata": {},
   "source": [
    "## 18. Sort the dataset by 'Market_Share' in descending order."
   ]
  },
  {
   "cell_type": "code",
   "execution_count": null,
   "id": "71b4ee6c",
   "metadata": {},
   "outputs": [],
   "source": [
    "df.sort_values(by='Market_Share', ascending=False).head()"
   ]
  },
  {
   "cell_type": "markdown",
   "id": "b341fe67",
   "metadata": {},
   "source": [
    "## 19. Create a new column 'Revenue_per_Employee' by dividing 'Annual_Revenue' by 'Employees'."
   ]
  },
  {
   "cell_type": "code",
   "execution_count": null,
   "id": "bcb16699",
   "metadata": {},
   "outputs": [],
   "source": [
    "df['Revenue_per_Employee'] = df['Annual_Revenue'] / df['Employees']\n",
    "df.head()"
   ]
  },
  {
   "cell_type": "markdown",
   "id": "4d3f3102",
   "metadata": {},
   "source": [
    "## 20. Replace all instances of 'Networking' in the 'Product_Lines' column with 'IT Services'."
   ]
  },
  {
   "cell_type": "code",
   "execution_count": null,
   "id": "15b84c56",
   "metadata": {},
   "outputs": [],
   "source": [
    "df['Product_Lines'].replace('Networking', 'IT Services', inplace=True)\n",
    "df.head()"
   ]
  },
  {
   "cell_type": "markdown",
   "id": "59a21714",
   "metadata": {},
   "source": [
    "## 21. Rename the column 'Annual_Revenue' to 'Revenue'."
   ]
  },
  {
   "cell_type": "code",
   "execution_count": null,
   "id": "3d9a4367",
   "metadata": {},
   "outputs": [],
   "source": [
    "df.rename(columns={'Annual_Revenue': 'Revenue'}, inplace=True)\n",
    "df.head()"
   ]
  },
  {
   "cell_type": "markdown",
   "id": "9da7fe64",
   "metadata": {},
   "source": [
    "## 22. Drop the 'CEO_Tenure_Years' column from the dataset."
   ]
  },
  {
   "cell_type": "code",
   "execution_count": null,
   "id": "ef49cc90",
   "metadata": {},
   "outputs": [],
   "source": [
    "df.drop(columns=['CEO_Tenure_Years'], inplace=True)\n",
    "df.head()"
   ]
  },
  {
   "cell_type": "markdown",
   "id": "2905a3f2",
   "metadata": {},
   "source": [
    "## 23. Check for duplicate rows in the dataset."
   ]
  },
  {
   "cell_type": "code",
   "execution_count": null,
   "id": "b2bbc7b0",
   "metadata": {},
   "outputs": [],
   "source": [
    "df.duplicated().sum()"
   ]
  },
  {
   "cell_type": "markdown",
   "id": "7283a9d2",
   "metadata": {},
   "source": [
    "## 24. Drop any duplicate rows found."
   ]
  },
  {
   "cell_type": "code",
   "execution_count": null,
   "id": "d98b2387",
   "metadata": {},
   "outputs": [],
   "source": [
    "df.drop_duplicates(inplace=True)\n",
    "df.head()"
   ]
  },
  {
   "cell_type": "markdown",
   "id": "558ea4dd",
   "metadata": {},
   "source": [
    "## 25. Create a new DataFrame containing only 'Company_ID', 'Company_Name', and 'Revenue'."
   ]
  },
  {
   "cell_type": "code",
   "execution_count": null,
   "id": "60029f4e",
   "metadata": {},
   "outputs": [],
   "source": [
    "df_subset = df[['Company_ID', 'Company_Name', 'Revenue']]\n",
    "df_subset.head()"
   ]
  },
  {
   "cell_type": "markdown",
   "id": "0b8d0a69",
   "metadata": {},
   "source": [
    "## 26. Merge the new DataFrame with the original dataset on 'Company_ID'."
   ]
  },
  {
   "cell_type": "code",
   "execution_count": null,
   "id": "120b0a57",
   "metadata": {},
   "outputs": [],
   "source": [
    "df_merged = pd.merge(df_subset, df, on='Company_ID')\n",
    "df_merged.head()"
   ]
  },
  {
   "cell_type": "markdown",
   "id": "a13a8ef6",
   "metadata": {},
   "source": [
    "## 27. Create a cross-tabulation of 'Product_Lines' and 'Market_Share'."
   ]
  },
  {
   "cell_type": "code",
   "execution_count": null,
   "id": "f3f2402c",
   "metadata": {},
   "outputs": [],
   "source": [
    "pd.crosstab(df['Product_Lines'], df['Market_Share'])"
   ]
  },
  {
   "cell_type": "markdown",
   "id": "3ab873f9",
   "metadata": {},
   "source": [
    "## 28. Create a pivot table showing the count of companies by 'Product_Lines' and 'Year_Founded'."
   ]
  },
  {
   "cell_type": "code",
   "execution_count": null,
   "id": "8b0ffe73",
   "metadata": {},
   "outputs": [],
   "source": [
    "df.pivot_table(index='Product_Lines', columns='Year_Founded', aggfunc='size', fill_value=0)"
   ]
  },
  {
   "cell_type": "markdown",
   "id": "3a527244",
   "metadata": {},
   "source": [
    "## 29. Replace missing values in 'Market_Share' with the median."
   ]
  },
  {
   "cell_type": "code",
   "execution_count": null,
   "id": "e48be62c",
   "metadata": {},
   "outputs": [],
   "source": [
    "df['Market_Share'].fillna(df['Market_Share'].median(), inplace=True)\n",
    "df.head()"
   ]
  },
  {
   "cell_type": "markdown",
   "id": "cf1a0e93",
   "metadata": {},
   "source": [
    "## 30. Calculate the Z-score for the 'Annual_Revenue' column."
   ]
  },
  {
   "cell_type": "code",
   "execution_count": null,
   "id": "ae341caa",
   "metadata": {},
   "outputs": [],
   "source": [
    "from scipy.stats import zscore\n",
    "df['Annual_Revenue_Zscore'] = zscore(df['Revenue'])\n",
    "df.head()"
   ]
  },
  {
   "cell_type": "markdown",
   "id": "1589c5b4",
   "metadata": {},
   "source": [
    "## 31. Filter out outliers in the 'Annual_Revenue' column based on Z-score."
   ]
  },
  {
   "cell_type": "code",
   "execution_count": null,
   "id": "d8f6c3c9",
   "metadata": {},
   "outputs": [],
   "source": [
    "df_no_outliers = df[(df['Annual_Revenue_Zscore'] > -3) & (df['Annual_Revenue_Zscore'] < 3)]\n",
    "df_no_outliers.head()"
   ]
  },
  {
   "cell_type": "markdown",
   "id": "f5e0e0b9",
   "metadata": {},
   "source": [
    "## 32. Apply a lambda function to the 'Market_Share' column to categorize into 'Low', 'Medium', 'High'."
   ]
  },
  {
   "cell_type": "code",
   "execution_count": null,
   "id": "7b3f9c01",
   "metadata": {},
   "outputs": [],
   "source": [
    "df['Market_Share_Category'] = df['Market_Share'].apply(lambda x: 'Low' if x < 10 else 'Medium' if x < 30 else 'High')\n",
    "df.head()"
   ]
  },
  {
   "cell_type": "markdown",
   "id": "2628c7ea",
   "metadata": {},
   "source": [
    "## 33. Create a new column 'Total_Tech_Adoption' by summing 'Adoption_Rate_AI', 'Adoption_Rate_Cloud', and 'Adoption_Rate_Blockchain'."
   ]
  },
  {
   "cell_type": "code",
   "execution_count": null,
   "id": "49231eec",
   "metadata": {},
   "outputs": [],
   "source": [
    "df['Total_Tech_Adoption'] = df['Adoption_Rate_AI'] + df['Adoption_Rate_Cloud'] + df['Adoption_Rate_Blockchain']\n",
    "df.head()"
   ]
  },
  {
   "cell_type": "markdown",
   "id": "bb79fd66",
   "metadata": {},
   "source": [
    "## 34. Extract the decade from 'Year_Founded' and create a new column 'Founded_Decade'."
   ]
  },
  {
   "cell_type": "code",
   "execution_count": null,
   "id": "c69a31b3",
   "metadata": {},
   "outputs": [],
   "source": [
    "df['Founded_Decade'] = (df['Year_Founded'] // 10) * 10\n",
    "df.head()"
   ]
  },
  {
   "cell_type": "markdown",
   "id": "6170c768",
   "metadata": {},
   "source": [
    "## 35. Convert the 'Product_Lines' column to a categorical data type."
   ]
  },
  {
   "cell_type": "code",
   "execution_count": null,
   "id": "b3335d6b",
   "metadata": {},
   "outputs": [],
   "source": [
    "df['Product_Lines'] = df['Product_Lines'].astype('category')\n",
    "df.dtypes"
   ]
  },
  {
   "cell_type": "markdown",
   "id": "dbf84cde",
   "metadata": {},
   "source": [
    "## 36. Create a box plot for 'Annual_Revenue' across different 'Product_Lines'."
   ]
  },
  {
   "cell_type": "code",
   "execution_count": null,
   "id": "62782d46",
   "metadata": {},
   "outputs": [],
   "source": [
    "df.boxplot(column='Revenue', by='Product_Lines')"
   ]
  },
  {
   "cell_type": "markdown",
   "id": "939a1dbc",
   "metadata": {},
   "source": [
    "## 37. Create a line plot showing the trend of 'Annual_Revenue' over 'Company_Age'."
   ]
  },
  {
   "cell_type": "code",
   "execution_count": null,
   "id": "408be1ce",
   "metadata": {},
   "outputs": [],
   "source": [
    "df.groupby('Company_Age')['Revenue'].mean().plot()"
   ]
  },
  {
   "cell_type": "markdown",
   "id": "7a734216",
   "metadata": {},
   "source": [
    "## 38. Create a heatmap for the correlation matrix."
   ]
  },
  {
   "cell_type": "code",
   "execution_count": null,
   "id": "009c2d2e",
   "metadata": {},
   "outputs": [],
   "source": [
    "import seaborn as sns\n",
    "sns.heatmap(df.corr(), annot=True)"
   ]
  },
  {
   "cell_type": "markdown",
   "id": "9d86cc7e",
   "metadata": {},
   "source": [
    "## 39. Filter the dataset to include only companies with 'Product_Lines' as 'Software'."
   ]
  },
  {
   "cell_type": "code",
   "execution_count": null,
   "id": "95f4f0aa",
   "metadata": {},
   "outputs": [],
   "source": [
    "df_software = df[df['Product_Lines'] == 'Software']\n",
    "df_software.head()"
   ]
  },
  {
   "cell_type": "markdown",
   "id": "252af0b8",
   "metadata": {},
   "source": [
    "## 40. Replace outliers in 'R&D_Spending' with the median value."
   ]
  },
  {
   "cell_type": "code",
   "execution_count": null,
   "id": "6901768f",
   "metadata": {},
   "outputs": [],
   "source": [
    "median_value = df['R&D_Spending'].median()\n",
    "df.loc[df['R&D_Spending'] > df['R&D_Spending'].quantile(0.99), 'R&D_Spending'] = median_value\n",
    "df.head()"
   ]
  },
  {
   "cell_type": "markdown",
   "id": "c6cbb1ec",
   "metadata": {},
   "source": [
    "## 41. Calculate the percentage of missing values in each column."
   ]
  },
  {
   "cell_type": "code",
   "execution_count": null,
   "id": "8420f683",
   "metadata": {},
   "outputs": [],
   "source": [
    "missing_percent = df.isnull().mean() * 100\n",
    "missing_percent"
   ]
  },
  {
   "cell_type": "markdown",
   "id": "ce95e80f",
   "metadata": {},
   "source": [
    "## 42. Reorder the columns so that 'Company_ID' is the first column."
   ]
  },
  {
   "cell_type": "code",
   "execution_count": null,
   "id": "2a1c382b",
   "metadata": {},
   "outputs": [],
   "source": [
    "df = df[['Company_ID'] + [col for col in df.columns if col != 'Company_ID']]\n",
    "df.head()"
   ]
  },
  {
   "cell_type": "markdown",
   "id": "dac955bb",
   "metadata": {},
   "source": [
    "## 43. Create a column 'High_Revenue_Company' which is True if 'Annual_Revenue' > 500 million, else False."
   ]
  },
  {
   "cell_type": "code",
   "execution_count": null,
   "id": "add63c8c",
   "metadata": {},
   "outputs": [],
   "source": [
    "df['High_Revenue_Company'] = df['Revenue'] > 5e8\n",
    "df.head()"
   ]
  },
  {
   "cell_type": "markdown",
   "id": "53d1b921",
   "metadata": {},
   "source": [
    "## 44. Split the dataset into training (80%) and testing (20%) sets based on 'Company_ID'."
   ]
  },
  {
   "cell_type": "code",
   "execution_count": null,
   "id": "d2fc987a",
   "metadata": {},
   "outputs": [],
   "source": [
    "from sklearn.model_selection import train_test_split\n",
    "train, test = train_test_split(df, test_size=0.2, random_state=42)\n",
    "train.shape, test.shape"
   ]
  },
  {
   "cell_type": "markdown",
   "id": "f2608e25",
   "metadata": {},
   "source": [
    "## 45. Create a pipeline to preprocess the 'Annual_Revenue' and 'Market_Share' columns."
   ]
  },
  {
   "cell_type": "code",
   "execution_count": null,
   "id": "657fb77f",
   "metadata": {},
   "outputs": [],
   "source": [
    "from sklearn.pipeline import Pipeline\n",
    "from sklearn.preprocessing import StandardScaler\n",
    "\n",
    "pipeline = Pipeline([\n",
    "    ('scaler', StandardScaler())\n",
    "])\n",
    "df[['Revenue', 'Market_Share']] = pipeline.fit_transform(df[['Revenue', 'Market_Share']])\n",
    "df.head()"
   ]
  },
  {
   "cell_type": "markdown",
   "id": "f3913224",
   "metadata": {},
   "source": [
    "## 46. Export the cleaned dataset to a new CSV file."
   ]
  },
  {
   "cell_type": "code",
   "execution_count": null,
   "id": "2a57edbd",
   "metadata": {},
   "outputs": [],
   "source": [
    "df.to_csv('cleaned_software_companies_dataset.csv', index=False)"
   ]
  },
  {
   "cell_type": "markdown",
   "id": "d49ece33",
   "metadata": {},
   "source": [
    "## 47. Save the dataset in Excel format with multiple sheets based on 'Product_Lines'."
   ]
  },
  {
   "cell_type": "code",
   "execution_count": null,
   "id": "2d2c171c",
   "metadata": {},
   "outputs": [],
   "source": [
    "with pd.ExcelWriter('software_companies_by_product_line.xlsx') as writer:\n",
    "    for product_line in df['Product_Lines'].unique():\n",
    "        df[df['Product_Lines'] == product_line].to_excel(writer, sheet_name=product_line, index=False)"
   ]
  },
  {
   "cell_type": "markdown",
   "id": "dfa2bf1c",
   "metadata": {},
   "source": [
    "## 48. Create a summary report of the dataset including key statistics and visualizations."
   ]
  },
  {
   "cell_type": "code",
   "execution_count": null,
   "id": "763c072e",
   "metadata": {},
   "outputs": [],
   "source": [
    "df.describe(include='all')"
   ]
  },
  {
   "cell_type": "markdown",
   "id": "c3492a0a",
   "metadata": {},
   "source": [
    "## 49. Write a function to automate the data cleaning process for this dataset."
   ]
  },
  {
   "cell_type": "code",
   "execution_count": null,
   "id": "66bb9441",
   "metadata": {},
   "outputs": [],
   "source": [
    "def clean_data(df):\n",
    "    df.dropna(inplace=True)\n",
    "    df.drop_duplicates(inplace=True)\n",
    "    df.fillna(df.mean(), inplace=True)\n",
    "    return df\n",
    "\n",
    "cleaned_df = clean_data(df.copy())\n",
    "cleaned_df.head()"
   ]
  },
  {
   "cell_type": "markdown",
   "id": "be41c295",
   "metadata": {},
   "source": [
    "## 50. Create a new column 'Innovation_Index' using a simple formula on 'R&D_Spending' and 'Total_Tech_Adoption'."
   ]
  },
  {
   "cell_type": "code",
   "execution_count": null,
   "id": "6afc5967",
   "metadata": {},
   "outputs": [],
   "source": [
    "df['Innovation_Index'] = df['R&D_Spending'] * df['Total_Tech_Adoption']\n",
    "df.head()"
   ]
  }
 ],
 "metadata": {
  "kernelspec": {
   "display_name": "Python 3",
   "language": "python",
   "name": "python3"
  },
  "language_info": {
   "codemirror_mode": {
    "name": "ipython",
    "version": 3
   },
   "file_extension": ".py",
   "mimetype": "text/x-python",
   "name": "python",
   "nbconvert_exporter": "python",
   "pygments_lexer": "ipython3",
   "version": "3.9.6"
  }
 },
 "nbformat": 4,
 "nbformat_minor": 5
}
